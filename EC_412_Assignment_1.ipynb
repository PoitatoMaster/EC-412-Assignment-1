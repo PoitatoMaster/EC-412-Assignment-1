{
  "nbformat": 4,
  "nbformat_minor": 0,
  "metadata": {
    "colab": {
      "name": "EC-412 Assignment-1.ipynb",
      "provenance": [],
      "collapsed_sections": []
    },
    "kernelspec": {
      "display_name": "Python 3",
      "language": "python",
      "name": "python3"
    },
    "language_info": {
      "codemirror_mode": {
        "name": "ipython",
        "version": 3
      },
      "file_extension": ".py",
      "mimetype": "text/x-python",
      "name": "python",
      "nbconvert_exporter": "python",
      "pygments_lexer": "ipython3",
      "version": "3.6.9"
    }
  },
  "cells": [
    {
      "cell_type": "markdown",
      "metadata": {
        "id": "-Ii72Krzt9om"
      },
      "source": [
        "Importing libraries"
      ]
    },
    {
      "cell_type": "code",
      "metadata": {
        "id": "qTjNPRVoxhl6"
      },
      "source": [
        "import numpy as np\n",
        "import tensorflow as tf\n",
        "from tensorflow import keras\n",
        "import pandas as pd\n",
        "import matplotlib.pyplot as plt\n",
        "from sklearn.utils import shuffle\n",
        "import cv2\n",
        "import os\n",
        "import glob"
      ],
      "execution_count": null,
      "outputs": []
    },
    {
      "cell_type": "markdown",
      "metadata": {
        "id": "fPoYHbMmuN4R"
      },
      "source": [
        "Model Definition"
      ]
    },
    {
      "cell_type": "code",
      "metadata": {
        "id": "ZgzpATIIxloo"
      },
      "source": [
        "from functools import partial\n",
        "\n",
        "DefaultConv2D = partial(keras.layers.Conv2D,\n",
        "                       kernel_size = 3, activation = 'relu', padding = 'same')\n",
        "\n",
        "model = keras.models.Sequential([\n",
        "    DefaultConv2D(filters = 32, input_shape = [100, 100, 1]),\n",
        "    keras.layers.MaxPooling2D(pool_size=3),\n",
        "    DefaultConv2D(filters= 64),\n",
        "    keras.layers.MaxPooling2D(pool_size=3),\n",
        "    keras.layers.Flatten(),\n",
        "    keras.layers.Dense(units = '128', activation = 'relu'),\n",
        "    keras.layers.Dropout(0.3),\n",
        "    keras.layers.Dense(units = '2', activation = 'softmax'),\n",
        "])"
      ],
      "execution_count": null,
      "outputs": []
    },
    {
      "cell_type": "code",
      "metadata": {
        "id": "93KdQXooy-GP",
        "outputId": "be566e89-1940-419f-d599-8ab28631d4b4"
      },
      "source": [
        "model.summary()"
      ],
      "execution_count": null,
      "outputs": [
        {
          "output_type": "stream",
          "text": [
            "Model: \"sequential_1\"\n",
            "_________________________________________________________________\n",
            "Layer (type)                 Output Shape              Param #   \n",
            "=================================================================\n",
            "conv2d_2 (Conv2D)            (None, 100, 100, 32)      320       \n",
            "_________________________________________________________________\n",
            "max_pooling2d_2 (MaxPooling2 (None, 33, 33, 32)        0         \n",
            "_________________________________________________________________\n",
            "conv2d_3 (Conv2D)            (None, 33, 33, 64)        18496     \n",
            "_________________________________________________________________\n",
            "max_pooling2d_3 (MaxPooling2 (None, 11, 11, 64)        0         \n",
            "_________________________________________________________________\n",
            "flatten_1 (Flatten)          (None, 7744)              0         \n",
            "_________________________________________________________________\n",
            "dense_2 (Dense)              (None, 128)               991360    \n",
            "_________________________________________________________________\n",
            "dropout_1 (Dropout)          (None, 128)               0         \n",
            "_________________________________________________________________\n",
            "dense_3 (Dense)              (None, 2)                 258       \n",
            "=================================================================\n",
            "Total params: 1,010,434\n",
            "Trainable params: 1,010,434\n",
            "Non-trainable params: 0\n",
            "_________________________________________________________________\n"
          ],
          "name": "stdout"
        }
      ]
    },
    {
      "cell_type": "markdown",
      "metadata": {
        "id": "wMwmcI6QuTEJ"
      },
      "source": [
        "Dataset import"
      ]
    },
    {
      "cell_type": "code",
      "metadata": {
        "id": "xazDS3XZz2Jb"
      },
      "source": [
        "size = 144\n",
        "\n",
        "train_data = []\n",
        "train_labels = []\n",
        "\n",
        "for per in os.listdir('/home/darthnoobisuke/Downloads/archive/sign_data/train/'):\n",
        "    for data in glob.glob('/home/darthnoobisuke/Downloads/archive/sign_data/train/'+per+'/*.*'):\n",
        "        img = cv2.imread(data,cv2.IMREAD_GRAYSCALE)\n",
        "        img = cv2.resize(img, (size, size))\n",
        "        train_data.append([img])\n",
        "        if per[-1]=='g':\n",
        "            train_labels.append(np.array(1))\n",
        "        else:\n",
        "            train_labels.append(np.array(0))\n",
        "\n",
        "train_data = np.array(train_data)/255.0\n",
        "train_labels = np.array(train_labels)\n",
        "\n",
        "test_data = []\n",
        "test_labels = []\n",
        "\n",
        "for per in os.listdir('/home/darthnoobisuke/Downloads/archive/sign_data/test/'):\n",
        "    for data in glob.glob('/home/darthnoobisuke/Downloads/archive/sign_data/test/'+per+'/*.*'):\n",
        "        img = cv2.imread(data,cv2.IMREAD_GRAYSCALE)\n",
        "        img = cv2.resize(img, (size, size))\n",
        "        test_data.append([img])\n",
        "        if per[-1]=='g':\n",
        "            test_labels.append(1)\n",
        "        else:\n",
        "            test_labels.append(0)\n",
        "\n",
        "test_data = np.array(test_data)/255.0\n",
        "test_labels = np.array(test_labels)"
      ],
      "execution_count": null,
      "outputs": []
    },
    {
      "cell_type": "code",
      "metadata": {
        "id": "-KBTPhwkZQPL"
      },
      "source": [
        "train_labels = tf.keras.utils.to_categorical(train_labels, dtype=\"float32\")"
      ],
      "execution_count": null,
      "outputs": []
    },
    {
      "cell_type": "code",
      "metadata": {
        "id": "brC8KEUcZQla"
      },
      "source": [
        "train_data = train_data.reshape(-1, size,size, 1)\n",
        "test_data = test_data.reshape(-1, size,size, 1)\n",
        "\n",
        "train_data,train_labels = shuffle(train_data,train_labels)\n",
        "test_data,test_labels = shuffle(test_data,test_labels)"
      ],
      "execution_count": null,
      "outputs": []
    },
    {
      "cell_type": "markdown",
      "metadata": {
        "id": "dLwAqpwNuXav"
      },
      "source": [
        "Compile and training the model"
      ]
    },
    {
      "cell_type": "code",
      "metadata": {
        "id": "UE_SfESkam4h",
        "outputId": "7e490708-dd5f-4418-9dd4-38a1f37e1855"
      },
      "source": [
        "%load_ext tensorboard\n",
        "import datetime\n",
        "\n",
        "opt = keras.optimizers.Adam(learning_rate = 0.0005)\n",
        "model.compile(loss = \"categorical_crossentropy\", optimizer = opt, metrics = [\"accuracy\"])\n",
        "\n",
        "log_dir = \"logs/fit/Sign_Check\" + datetime.datetime.now().strftime(\"%Y%m%d-%H%M%S\")\n",
        "tensorboard_callback = tf.keras.callbacks.TensorBoard(log_dir=log_dir, histogram_freq=1)\n",
        "\n",
        "reduce_lr = tf.keras.callbacks.ReduceLROnPlateau(monitor='val_loss', factor=0.5,\n",
        "                              patience=6, min_lr=0.001)\n",
        "    \n",
        "early_stopping_cb = keras.callbacks.EarlyStopping(patience=9,\n",
        "                                                  restore_best_weights=True)\n",
        "\n",
        "checkpoint_cb = keras.callbacks.ModelCheckpoint(\"Sign_Check.h5\",save_best_only=True)\n",
        "\n",
        "history = model.fit(train_data, train_labels,\n",
        "                    epochs = 60,\n",
        "                    batch_size = 64,\n",
        "                    validation_split=.3, \n",
        "                    callbacks = [reduce_lr, early_stopping_cb, tensorboard_callback, checkpoint_cb])"
      ],
      "execution_count": null,
      "outputs": [
        {
          "output_type": "stream",
          "text": [
            "Epoch 1/40\n",
            " 1/19 [>.............................] - ETA: 0s - loss: 0.7055 - accuracy: 0.4375WARNING:tensorflow:From /home/darthnoobisuke/ml/env/lib/python3.6/site-packages/tensorflow/python/ops/summary_ops_v2.py:1277: stop (from tensorflow.python.eager.profiler) is deprecated and will be removed after 2020-07-01.\n",
            "Instructions for updating:\n",
            "use `tf.profiler.experimental.stop` instead.\n",
            "19/19 [==============================] - 3s 139ms/step - loss: 0.7067 - accuracy: 0.5277 - val_loss: 0.6873 - val_accuracy: 0.5414\n",
            "Epoch 2/40\n",
            "19/19 [==============================] - 3s 138ms/step - loss: 0.6804 - accuracy: 0.5815 - val_loss: 0.6679 - val_accuracy: 0.6889\n",
            "Epoch 3/40\n",
            "19/19 [==============================] - 3s 133ms/step - loss: 0.6408 - accuracy: 0.6612 - val_loss: 0.6525 - val_accuracy: 0.5758\n",
            "Epoch 4/40\n",
            "19/19 [==============================] - 3s 136ms/step - loss: 0.5812 - accuracy: 0.6898 - val_loss: 0.4954 - val_accuracy: 0.8040\n",
            "Epoch 5/40\n",
            "19/19 [==============================] - 3s 136ms/step - loss: 0.4521 - accuracy: 0.8146 - val_loss: 0.4490 - val_accuracy: 0.7737\n",
            "Epoch 6/40\n",
            "19/19 [==============================] - 3s 136ms/step - loss: 0.3840 - accuracy: 0.8406 - val_loss: 0.4204 - val_accuracy: 0.7838\n",
            "Epoch 7/40\n",
            "19/19 [==============================] - 3s 137ms/step - loss: 0.3602 - accuracy: 0.8683 - val_loss: 0.4293 - val_accuracy: 0.8525\n",
            "Epoch 8/40\n",
            "19/19 [==============================] - 3s 158ms/step - loss: 0.3336 - accuracy: 0.8588 - val_loss: 0.3555 - val_accuracy: 0.8242\n",
            "Epoch 9/40\n",
            "19/19 [==============================] - 3s 150ms/step - loss: 0.3439 - accuracy: 0.8562 - val_loss: 0.4043 - val_accuracy: 0.7859\n",
            "Epoch 10/40\n",
            "19/19 [==============================] - 3s 160ms/step - loss: 0.2981 - accuracy: 0.8726 - val_loss: 0.3354 - val_accuracy: 0.8727\n",
            "Epoch 11/40\n",
            "19/19 [==============================] - 2s 127ms/step - loss: 0.2751 - accuracy: 0.8856 - val_loss: 0.3512 - val_accuracy: 0.8828\n",
            "Epoch 12/40\n",
            "19/19 [==============================] - 3s 133ms/step - loss: 0.2808 - accuracy: 0.8943 - val_loss: 0.3004 - val_accuracy: 0.8667\n",
            "Epoch 13/40\n",
            "19/19 [==============================] - 3s 136ms/step - loss: 0.2428 - accuracy: 0.9038 - val_loss: 0.3510 - val_accuracy: 0.8364\n",
            "Epoch 14/40\n",
            "19/19 [==============================] - 3s 132ms/step - loss: 0.2469 - accuracy: 0.9064 - val_loss: 0.2900 - val_accuracy: 0.8687\n",
            "Epoch 15/40\n",
            "19/19 [==============================] - 2s 129ms/step - loss: 0.2194 - accuracy: 0.9107 - val_loss: 0.2827 - val_accuracy: 0.8707\n",
            "Epoch 16/40\n",
            "19/19 [==============================] - 3s 134ms/step - loss: 0.2566 - accuracy: 0.9047 - val_loss: 0.2976 - val_accuracy: 0.8444\n",
            "Epoch 17/40\n",
            "19/19 [==============================] - 3s 141ms/step - loss: 0.2164 - accuracy: 0.9177 - val_loss: 0.2935 - val_accuracy: 0.8545\n",
            "Epoch 18/40\n",
            "19/19 [==============================] - 3s 137ms/step - loss: 0.2196 - accuracy: 0.9081 - val_loss: 0.2693 - val_accuracy: 0.8990\n",
            "Epoch 19/40\n",
            "19/19 [==============================] - 3s 143ms/step - loss: 0.2439 - accuracy: 0.8977 - val_loss: 0.2672 - val_accuracy: 0.9051\n",
            "Epoch 20/40\n",
            "19/19 [==============================] - 3s 136ms/step - loss: 0.2004 - accuracy: 0.9333 - val_loss: 0.2620 - val_accuracy: 0.9030\n",
            "Epoch 21/40\n",
            "19/19 [==============================] - 2s 130ms/step - loss: 0.1758 - accuracy: 0.9246 - val_loss: 0.2911 - val_accuracy: 0.8586\n",
            "Epoch 22/40\n",
            "19/19 [==============================] - 3s 132ms/step - loss: 0.2252 - accuracy: 0.9133 - val_loss: 0.2531 - val_accuracy: 0.8727\n",
            "Epoch 23/40\n",
            "19/19 [==============================] - 2s 130ms/step - loss: 0.1637 - accuracy: 0.9341 - val_loss: 0.2587 - val_accuracy: 0.8768\n",
            "Epoch 24/40\n",
            "19/19 [==============================] - 3s 132ms/step - loss: 0.1509 - accuracy: 0.9428 - val_loss: 0.2164 - val_accuracy: 0.9051\n",
            "Epoch 25/40\n",
            "19/19 [==============================] - 3s 135ms/step - loss: 0.1476 - accuracy: 0.9402 - val_loss: 0.2137 - val_accuracy: 0.9030\n",
            "Epoch 26/40\n",
            "19/19 [==============================] - 3s 133ms/step - loss: 0.1453 - accuracy: 0.9393 - val_loss: 0.2043 - val_accuracy: 0.9030\n",
            "Epoch 27/40\n",
            "19/19 [==============================] - 3s 135ms/step - loss: 0.1280 - accuracy: 0.9532 - val_loss: 0.2033 - val_accuracy: 0.9091\n",
            "Epoch 28/40\n",
            "19/19 [==============================] - 2s 130ms/step - loss: 0.1256 - accuracy: 0.9506 - val_loss: 0.2161 - val_accuracy: 0.9030\n",
            "Epoch 29/40\n",
            "19/19 [==============================] - 3s 135ms/step - loss: 0.1251 - accuracy: 0.9471 - val_loss: 0.1906 - val_accuracy: 0.9091\n",
            "Epoch 30/40\n",
            "19/19 [==============================] - 2s 130ms/step - loss: 0.1032 - accuracy: 0.9653 - val_loss: 0.2219 - val_accuracy: 0.9172\n",
            "Epoch 31/40\n",
            "19/19 [==============================] - 3s 135ms/step - loss: 0.1314 - accuracy: 0.9567 - val_loss: 0.1880 - val_accuracy: 0.9293\n",
            "Epoch 32/40\n",
            "19/19 [==============================] - 2s 130ms/step - loss: 0.0966 - accuracy: 0.9705 - val_loss: 0.1916 - val_accuracy: 0.9131\n",
            "Epoch 33/40\n",
            "19/19 [==============================] - 3s 136ms/step - loss: 0.0863 - accuracy: 0.9697 - val_loss: 0.1820 - val_accuracy: 0.9192\n",
            "Epoch 34/40\n",
            "19/19 [==============================] - 3s 132ms/step - loss: 0.0780 - accuracy: 0.9749 - val_loss: 0.1782 - val_accuracy: 0.9293\n",
            "Epoch 35/40\n",
            "19/19 [==============================] - 3s 135ms/step - loss: 0.0741 - accuracy: 0.9740 - val_loss: 0.1741 - val_accuracy: 0.9273\n",
            "Epoch 36/40\n",
            "19/19 [==============================] - 3s 132ms/step - loss: 0.0698 - accuracy: 0.9809 - val_loss: 0.1712 - val_accuracy: 0.9313\n",
            "Epoch 37/40\n",
            "19/19 [==============================] - 2s 130ms/step - loss: 0.0642 - accuracy: 0.9853 - val_loss: 0.1806 - val_accuracy: 0.9232\n",
            "Epoch 38/40\n",
            "19/19 [==============================] - 2s 130ms/step - loss: 0.0568 - accuracy: 0.9870 - val_loss: 0.1916 - val_accuracy: 0.9152\n",
            "Epoch 39/40\n",
            "19/19 [==============================] - 2s 129ms/step - loss: 0.0594 - accuracy: 0.9844 - val_loss: 0.1770 - val_accuracy: 0.9354\n",
            "Epoch 40/40\n",
            "19/19 [==============================] - 2s 131ms/step - loss: 0.0482 - accuracy: 0.9853 - val_loss: 0.1771 - val_accuracy: 0.9253\n"
          ],
          "name": "stdout"
        }
      ]
    },
    {
      "cell_type": "code",
      "metadata": {
        "id": "rAr1ZfZdt_lm",
        "outputId": "8a32651c-4f09-407d-b8ae-c77ee852e76c"
      },
      "source": [
        "%tensorboard --logdir logs/fit"
      ],
      "execution_count": null,
      "outputs": [
        {
          "output_type": "display_data",
          "data": {
            "text/html": [
              "\n",
              "      <iframe id=\"tensorboard-frame-e59e00b4c16bdb11\" width=\"100%\" height=\"800\" frameborder=\"0\">\n",
              "      </iframe>\n",
              "      <script>\n",
              "        (function() {\n",
              "          const frame = document.getElementById(\"tensorboard-frame-e59e00b4c16bdb11\");\n",
              "          const url = new URL(\"/\", window.location);\n",
              "          const port = 6007;\n",
              "          if (port) {\n",
              "            url.port = port;\n",
              "          }\n",
              "          frame.src = url;\n",
              "        })();\n",
              "      </script>\n",
              "    "
            ],
            "text/plain": [
              "<IPython.core.display.HTML object>"
            ]
          },
          "metadata": {
            "tags": []
          }
        }
      ]
    },
    {
      "cell_type": "code",
      "metadata": {
        "id": "mAhJbb5WuCQr"
      },
      "source": [
        "pred = model.predict(test_data)\n",
        "predict =np.argmax(pred,axis=1)"
      ],
      "execution_count": null,
      "outputs": []
    },
    {
      "cell_type": "code",
      "metadata": {
        "id": "BoUtFlGUuXQk",
        "outputId": "44748785-583d-4f68-ede8-eec8727d573f"
      },
      "source": [
        "from sklearn.metrics import accuracy_score\n",
        "accuracy_score(predict , test_labels)"
      ],
      "execution_count": null,
      "outputs": [
        {
          "output_type": "execute_result",
          "data": {
            "text/plain": [
              "0.98"
            ]
          },
          "metadata": {
            "tags": []
          },
          "execution_count": 17
        }
      ]
    },
    {
      "cell_type": "code",
      "metadata": {
        "id": "nAdbl6mDuYxr"
      },
      "source": [
        "from sklearn.metrics import confusion_matrix, f1_score, precision_score, recall_score"
      ],
      "execution_count": null,
      "outputs": []
    },
    {
      "cell_type": "code",
      "metadata": {
        "id": "RR5wfBMquaPq",
        "outputId": "c0063fe9-3d87-4d2e-90d4-c9cfb109e1eb"
      },
      "source": [
        "f1_score(predict, test_labels)"
      ],
      "execution_count": null,
      "outputs": [
        {
          "output_type": "execute_result",
          "data": {
            "text/plain": [
              "0.9794238683127572"
            ]
          },
          "metadata": {
            "tags": []
          },
          "execution_count": 19
        }
      ]
    },
    {
      "cell_type": "code",
      "metadata": {
        "id": "11E6Oci2ubUD",
        "outputId": "2b522619-e482-4367-93cb-3215450c5f56"
      },
      "source": [
        "recall_score(predict, test_labels)"
      ],
      "execution_count": null,
      "outputs": [
        {
          "output_type": "execute_result",
          "data": {
            "text/plain": [
              "1.0"
            ]
          },
          "metadata": {
            "tags": []
          },
          "execution_count": 20
        }
      ]
    },
    {
      "cell_type": "code",
      "metadata": {
        "id": "6ogePUVQucab",
        "outputId": "d7cb303d-bb81-430a-cecc-6f8e358ff02f"
      },
      "source": [
        "precision_score(predict,test_labels)"
      ],
      "execution_count": null,
      "outputs": [
        {
          "output_type": "execute_result",
          "data": {
            "text/plain": [
              "0.9596774193548387"
            ]
          },
          "metadata": {
            "tags": []
          },
          "execution_count": 21
        }
      ]
    },
    {
      "cell_type": "code",
      "metadata": {
        "id": "ECpo5H71udYs",
        "outputId": "5e5df74d-2d1f-4527-af10-a5a4577c294a"
      },
      "source": [
        "confusion_matrix(predict,test_labels)"
      ],
      "execution_count": null,
      "outputs": [
        {
          "output_type": "execute_result",
          "data": {
            "text/plain": [
              "array([[252,  10],\n",
              "       [  0, 238]])"
            ]
          },
          "metadata": {
            "tags": []
          },
          "execution_count": 22
        }
      ]
    },
    {
      "cell_type": "code",
      "metadata": {
        "id": "r-P5bydXtdtm"
      },
      "source": [
        ""
      ],
      "execution_count": null,
      "outputs": []
    }
  ]
}
